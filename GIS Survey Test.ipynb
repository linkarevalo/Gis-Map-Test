{
 "cells": [
  {
   "cell_type": "code",
   "execution_count": 5,
   "metadata": {
    "ExecuteTime": {
     "end_time": "2019-11-18T07:42:00.783690Z",
     "start_time": "2019-11-18T07:42:00.738006Z"
    },
    "scrolled": false
   },
   "outputs": [
    {
     "data": {
      "application/vnd.jupyter.widget-view+json": {
       "model_id": "82e0790213dc4f15beb050f519daf6ca",
       "version_major": 2,
       "version_minor": 0
      },
      "text/plain": [
       "RadioButtons(description='Sex:', index=3, layout=Layout(width='initial'), options=('Male', 'Female', 'Other', …"
      ]
     },
     "metadata": {},
     "output_type": "display_data"
    },
    {
     "data": {
      "text/markdown": [
       "__Where do you spend most of your free time? (Click the map to set a marker)__"
      ],
      "text/plain": [
       "<IPython.core.display.Markdown object>"
      ]
     },
     "metadata": {},
     "output_type": "display_data"
    },
    {
     "data": {
      "application/vnd.jupyter.widget-view+json": {
       "model_id": "0997c77d90d14aa281b1dd5e1550e675",
       "version_major": 2,
       "version_minor": 0
      },
      "text/plain": [
       "Map(basemap={'url': 'https://{s}.tile.openstreetmap.org/{z}/{x}/{y}.png', 'max_zoom': 19, 'attribution': 'Map …"
      ]
     },
     "metadata": {},
     "output_type": "display_data"
    },
    {
     "data": {
      "application/vnd.jupyter.widget-view+json": {
       "model_id": "e31b17b390fb44d2bca5dabe1c2499d1",
       "version_major": 2,
       "version_minor": 0
      },
      "text/plain": [
       "Label(value='No marker set')"
      ]
     },
     "metadata": {},
     "output_type": "display_data"
    },
    {
     "data": {
      "application/vnd.jupyter.widget-view+json": {
       "model_id": "22daaf3e17b4478d867a11b13a2953dc",
       "version_major": 2,
       "version_minor": 0
      },
      "text/plain": [
       "Button(description='Send data', layout=Layout(height='60px', width='30%'), style=ButtonStyle())"
      ]
     },
     "metadata": {},
     "output_type": "display_data"
    },
    {
     "data": {
      "text/markdown": [
       "__Thank you! Your answer has been recorded.__"
      ],
      "text/plain": [
       "<IPython.core.display.Markdown object>"
      ]
     },
     "metadata": {},
     "output_type": "display_data"
    }
   ],
   "source": [
    "#import pandas as pd\n",
    "from ipyleaflet import Map, Marker, Heatmap, LayerGroup\n",
    "from ipywidgets import Label, Button, RadioButtons, Layout\n",
    "import gspread\n",
    "from oauth2client.service_account import ServiceAccountCredentials\n",
    "from IPython.display import Markdown\n",
    "\n",
    "# Question 1 settings\n",
    "\n",
    "sex_question = RadioButtons(\n",
    "    options=['Male', 'Female', 'Other', 'No answer'],\n",
    "    value='No answer',\n",
    "    description='Sex:',\n",
    "    layout={'width': 'initial'},\n",
    "    style = {'description_width': 'initial'},\n",
    "    disabled=False)\n",
    "\n",
    "# Map settings and click handling\n",
    "\n",
    "label = Label(value='No marker set')\n",
    "\n",
    "layer_group = LayerGroup()\n",
    "\n",
    "\n",
    "center = (56.4971944, 84.9837908)\n",
    "\n",
    "m = Map(center=center, zoom=13,\n",
    "        dragging=True,\n",
    "        scroll_wheel_zoom=True\n",
    "       )\n",
    "        \n",
    "m.layout.height = '1000px'\n",
    "\n",
    "def handle_click(**kwargs):\n",
    "    if kwargs.get('type') == 'click':\n",
    "        layer_group.clear_layers()\n",
    "        label.value = str(kwargs.get('coordinates'))\n",
    "        point = Marker(location=kwargs.get('coordinates'))\n",
    "        layer_group.add_layer(point)\n",
    "        try:\n",
    "            m.add_layer(layer_group)\n",
    "        except:\n",
    "            pass\n",
    "\n",
    "m.on_interaction(handle_click)\n",
    "\n",
    "\n",
    "# Send data button settings \n",
    "\n",
    "send_button = Button(description='Send data',\n",
    "                             layout=Layout(width='30%', height='60px'))\n",
    "\n",
    "def send_button_clicked(_):\n",
    "    new_row = [sex_question.value, layer_group.layers[0].location[0], layer_group.layers[0].location[1]]\n",
    "    scope = ['https://spreadsheets.google.com/feeds',\n",
    "             'https://www.googleapis.com/auth/drive']\n",
    "    creds = ServiceAccountCredentials.from_json_keyfile_name('client_secret.json', scope)\n",
    "    client = gspread.authorize(creds)\n",
    "    sheet = client.open(\"Map_data\").sheet1\n",
    "    sheet.append_row(new_row)\n",
    "    display(Markdown('__Thank you! Your answer has been recorded.__'))\n",
    "    \n",
    "send_button.on_click(send_button_clicked)\n",
    "\n",
    "\n",
    "# Display user interface\n",
    "\n",
    "display(sex_question)\n",
    "\n",
    "display(Markdown('__Where do you spend most of your free time? (Click the map to set a marker)__'))\n",
    "\n",
    "display(m)\n",
    "\n",
    "display(label)\n",
    "\n",
    "display(send_button)"
   ]
  }
 ],
 "metadata": {
  "hide_input": false,
  "kernelspec": {
   "display_name": "Python 3",
   "language": "python",
   "name": "python3"
  },
  "language_info": {
   "codemirror_mode": {
    "name": "ipython",
    "version": 3
   },
   "file_extension": ".py",
   "mimetype": "text/x-python",
   "name": "python",
   "nbconvert_exporter": "python",
   "pygments_lexer": "ipython3",
   "version": "3.7.3"
  }
 },
 "nbformat": 4,
 "nbformat_minor": 2
}
